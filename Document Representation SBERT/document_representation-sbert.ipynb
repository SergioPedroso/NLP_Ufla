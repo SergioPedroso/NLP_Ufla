{
 "cells": [
  {
   "cell_type": "markdown",
   "metadata": {},
   "source": [
    "### Imports"
   ]
  },
  {
   "cell_type": "code",
   "execution_count": 17,
   "metadata": {
    "scrolled": true
   },
   "outputs": [],
   "source": [
    "from sentence_transformers import SentenceTransformer, util  # SentenceBERT\n",
    "import csv"
   ]
  },
  {
   "cell_type": "markdown",
   "metadata": {},
   "source": [
    "### Dataset\n",
    "\n",
    "The **Quora Duplicate Questions dataset** is used for this project.\n",
    "- It contains approximately 500,000 question pairs.\n",
    "- The dataset can be obtained from: [First Quora Dataset Release: Question Pairs](https://www.quora.com/q/quoradata/First-Quora-Dataset-Release-Question-Pairs)\n",
    "- The question pairs may or may not be duplicates, meaning they might ask the same thing but are phrased differently. An attribute in the dataset indicates whether each pair is a duplicate or not.\n",
    "- The questions span 100 different languages, with the majority being in English.\n",
    "\n",
    "For simplicity, this application will use only a subset of the full dataset."
   ]
  },
  {
   "cell_type": "code",
   "execution_count": null,
   "metadata": {},
   "outputs": [],
   "source": [
    "corpus_sentences = set()\n",
    "dataset_path = \"./datasets/quoraDuplicateQuestionsReduced.tsv\"\n",
    "with open(dataset_path, encoding='utf8') as fIn:\n",
    "    reader = csv.DictReader(fIn, delimiter='\\t', quoting=csv.QUOTE_MINIMAL)\n",
    "    for row in reader:\n",
    "        corpus_sentences.add(row['question1'])\n",
    "        corpus_sentences.add(row['question2'])\n",
    "corpus_sentences = list(corpus_sentences)"
   ]
  },
  {
   "cell_type": "markdown",
   "metadata": {},
   "source": [
    "### Embeddings"
   ]
  },
  {
   "cell_type": "code",
   "execution_count": null,
   "metadata": {},
   "outputs": [
    {
     "name": "stdout",
     "output_type": "stream",
     "text": [
      "Codificando os dados. Pode demorar...\n"
     ]
    },
    {
     "name": "stderr",
     "output_type": "stream",
     "text": [
      "Batches: 100%|██████████| 2264/2264 [05:22<00:00,  7.02it/s]\n"
     ]
    },
    {
     "name": "stdout",
     "output_type": "stream",
     "text": [
      "Dados codificados. Total de 72423 sentenças/embeddings\n"
     ]
    }
   ],
   "source": [
    "model = SentenceTransformer('quora-distilbert-multilingual')\n",
    "print(\"Codificando os dados...\")\n",
    "corpus_embeddings = model.encode(corpus_sentences, show_progress_bar=True, convert_to_tensor=True)\n",
    "print(\"Dados codificados. Total de {} sentenças/embeddings\".format(len(corpus_sentences)))"
   ]
  },
  {
   "cell_type": "code",
   "execution_count": null,
   "metadata": {},
   "outputs": [
    {
     "name": "stdout",
     "output_type": "stream",
     "text": [
      "Dimensão dos embeddings:  768 \n",
      "\n",
      "Embedding da primeira sentença:  tensor([ 1.8629e-01,  1.1262e-01,  5.4526e-01,  3.2218e-01, -6.4382e-02,\n",
      "         1.7457e-01, -4.5411e-01, -2.1163e-01, -2.0066e-01, -2.3809e-01,\n",
      "        -6.9773e-02,  3.5057e-01,  1.8053e-01, -6.4607e-02,  2.4889e-05,\n",
      "         2.9427e-01, -1.2328e-01, -1.1485e-01,  2.4043e-02, -4.7279e-01,\n",
      "        -3.4201e-01,  2.7796e-01,  3.2721e-01, -7.6693e-02,  1.1853e-01,\n",
      "         4.1939e-01,  4.5358e-01, -3.4031e-01, -1.3234e-01, -8.4394e-02,\n",
      "        -1.0700e-01,  3.3024e-02,  2.6077e-01, -2.7364e-01,  3.5028e-01,\n",
      "        -3.0256e-02, -9.4805e-02, -1.1167e-01,  2.7996e-01, -1.6700e-01,\n",
      "         4.3810e-01, -9.9588e-03,  1.7853e-01, -5.2103e-02, -2.4134e-01,\n",
      "         2.8020e-01, -3.2572e-01,  2.3961e-01, -2.4937e-01,  2.2240e-02,\n",
      "        -2.3590e-01, -1.9295e-01,  8.6322e-02, -5.3046e-03, -3.3325e-01,\n",
      "        -3.9985e-01,  5.0177e-01,  5.3615e-01, -8.0466e-02,  7.0358e-02,\n",
      "         3.0628e-01, -3.7138e-01,  5.4547e-02,  6.6831e-01, -2.1705e-01,\n",
      "        -4.3308e-01,  2.8594e-01, -1.8257e-01,  7.0831e-02, -3.3492e-01,\n",
      "         4.4364e-01,  9.9646e-02,  7.5912e-02, -9.2198e-02, -2.1607e-01,\n",
      "        -1.4764e-01, -1.5482e-01, -1.9518e-03,  2.0828e-01,  3.5460e-01,\n",
      "         3.9219e-01, -1.8403e-01, -1.6835e-01, -3.5611e-01,  1.5967e-01,\n",
      "        -5.4170e-02,  1.3655e-01,  1.2584e-01, -1.9081e-01,  1.7984e-01,\n",
      "        -2.8336e-02,  3.0260e-01,  2.0719e-01, -3.7472e-03, -2.9081e-01,\n",
      "        -3.1076e-01, -2.6264e-01, -4.0095e-01,  3.3766e-01,  2.1372e-01,\n",
      "        -5.1511e-01, -3.2410e-01, -2.3209e-01, -2.1173e-01, -4.3376e-01,\n",
      "        -3.7493e-01, -2.1322e-01,  1.3389e-01,  8.9847e-02, -1.1482e-01,\n",
      "        -3.8894e-01, -2.2964e-02,  3.4875e-01,  4.9329e-01,  2.0268e-01,\n",
      "        -1.7921e-02, -2.1731e-01,  4.9402e-01,  3.3656e-01,  3.2530e-01,\n",
      "        -9.5486e-02,  7.2779e-01,  1.8610e-01, -1.5261e-01,  5.7722e-01,\n",
      "         1.3997e-01,  1.2975e-01, -2.4847e-01,  1.3496e-01, -2.1913e-01,\n",
      "        -7.3238e-02, -4.5777e-01, -3.8455e-01,  1.1460e-01,  3.4552e-01,\n",
      "        -3.1484e-01,  1.2907e-01,  4.1105e-01,  5.8454e-02, -2.6853e-01,\n",
      "        -2.6308e-01,  5.4053e-01,  1.1911e-01, -5.8446e-02, -3.1887e-01,\n",
      "        -2.1133e-01, -3.6282e-01,  3.4365e-03,  2.1672e-01, -6.3700e-02,\n",
      "        -4.0028e-01,  4.8185e-01,  1.7887e-02, -2.8907e-01, -3.3758e-02,\n",
      "         2.7509e-01, -1.4083e-01, -1.4941e-01, -2.6379e-02, -4.2924e-02,\n",
      "        -3.4004e-01,  2.5694e-01,  7.0027e-02, -1.8267e-01, -4.1516e-01,\n",
      "        -4.8977e-01,  2.3970e-02, -5.6513e-04, -2.5530e-01,  1.6515e-01,\n",
      "        -4.9005e-02, -3.9399e-01, -2.1992e-01,  2.4381e-01, -9.4334e-02,\n",
      "         2.3856e-01,  3.6365e-01, -1.9963e-01, -2.4763e-01, -8.1972e-02,\n",
      "        -2.9013e-01, -2.5722e-01, -4.7661e-01, -6.3101e-02, -1.1396e-02,\n",
      "        -1.1721e-01,  3.3947e-01,  2.4747e-01,  2.9879e-01,  2.3524e-01,\n",
      "         4.1940e-01, -5.0357e-02,  3.5911e-01, -2.9489e-01, -7.9603e-02,\n",
      "         3.1030e-01,  6.3521e-02, -2.5163e-02,  2.9827e-01, -3.1361e-01,\n",
      "         2.9684e-01,  1.8549e-02, -2.3540e-01, -1.5376e-01, -7.3214e-02,\n",
      "         3.5069e-01,  3.1646e-01,  3.0733e-02, -5.1517e-01, -2.0288e-01,\n",
      "         4.9672e-02, -3.0343e-01,  4.3583e-01, -4.1361e-01,  2.0409e-01,\n",
      "        -5.6654e-03,  4.7564e-01,  1.5600e-01,  2.5299e-01, -1.7084e-01,\n",
      "         2.8135e-01, -3.4112e-01,  4.0642e-01, -1.4348e-01, -2.8508e-01,\n",
      "        -1.6211e-01,  7.2914e-01, -5.5011e-01,  2.4456e-02, -1.1752e-01,\n",
      "        -3.8029e-01,  1.6716e-02, -5.3466e-01,  2.8747e-01,  3.8602e-01,\n",
      "         7.1191e-02,  3.3867e-01,  1.7192e-02, -4.4949e-02,  4.5504e-01,\n",
      "         1.6525e-01,  9.6522e-03,  1.6646e-01, -4.4314e-01,  7.8888e-02,\n",
      "        -2.2988e-01,  2.6248e-01, -2.4340e-01, -1.4587e-01,  1.6823e-01,\n",
      "        -4.8067e-01,  6.9538e-02, -1.7767e-01,  7.1940e-01,  1.6458e-01,\n",
      "         2.2504e-01, -1.3560e-01, -3.4859e-02,  3.3821e-01, -2.9120e-01,\n",
      "         9.8568e-02, -4.5157e-01, -3.6219e-01, -7.0095e-01, -1.1052e-01,\n",
      "         3.8387e-01, -3.7986e-01, -2.8225e-01,  1.4772e-01,  2.5576e-01,\n",
      "         3.7754e-02, -4.7378e-02,  1.3731e-01, -6.6589e-01, -1.2151e-01,\n",
      "        -2.1859e-02,  5.5977e-01, -2.3057e-01,  1.6717e-02, -2.9329e-01,\n",
      "        -4.5207e-01,  1.0715e-01,  2.7745e-01,  2.2209e-02,  2.0016e-02,\n",
      "        -4.3576e-02,  5.0403e-01, -5.9298e-01,  2.5314e-01, -2.4805e-01,\n",
      "         2.5707e-01,  2.9254e-01,  1.6165e-01, -5.8068e-01,  1.9050e-01,\n",
      "        -1.2090e-01, -3.5971e-01,  1.9602e-01, -2.2464e-01,  3.1554e-01,\n",
      "         1.9039e-01,  2.5006e-01, -2.9038e-01, -1.2054e-01,  3.9235e-01,\n",
      "        -1.6841e-01, -4.4737e-02,  1.2611e-01, -5.8660e+00, -4.3946e-01,\n",
      "        -1.6801e-01,  7.1624e-02, -1.5712e-02, -6.5053e-02,  1.3603e-01,\n",
      "         2.2732e-01,  1.0470e-01,  1.0692e-01, -2.3164e-01,  2.5280e-01,\n",
      "        -3.9775e-01,  1.9034e-01, -2.0356e-01, -9.7958e-02, -2.3975e-01,\n",
      "         6.7005e-01, -2.4499e-01,  3.9841e-01,  1.0786e-01, -1.4281e-01,\n",
      "         1.4542e-01,  2.6503e-01, -3.0370e-01, -1.9844e-01, -6.8369e-02,\n",
      "         1.4304e-01, -4.5085e-01, -6.2946e-02, -2.0962e-01,  4.6039e-02,\n",
      "         7.7449e-02,  2.4498e-01, -3.8622e-02, -4.9917e-01,  1.2998e-01,\n",
      "         1.4288e-01,  1.0423e-01,  3.1529e-01, -2.0441e-01, -1.0037e-01,\n",
      "         2.1206e-01, -5.5423e-02, -3.6095e-01, -1.7856e-01, -1.4824e-01,\n",
      "         3.7101e-01,  2.5542e-01, -1.6980e-01, -1.4166e-01,  3.5312e-01,\n",
      "         1.5909e-01,  1.3860e-01, -3.8534e-01,  1.5235e-02, -2.8243e-01,\n",
      "         2.6256e-01,  2.2485e-01, -3.2401e-01,  1.0096e-01,  4.4673e-02,\n",
      "         1.5006e-01, -3.3796e-02, -4.1157e-01,  1.3706e-01, -2.3492e-01,\n",
      "        -2.8196e-02,  5.5099e-02,  2.5642e-01, -1.6202e-01,  1.0194e-01,\n",
      "         5.2001e-02, -5.8745e-01,  1.6370e-01,  1.7125e-01,  1.0119e-02,\n",
      "         3.7677e-01,  1.2341e-01,  1.9353e-01, -4.1734e-01, -8.7912e-02,\n",
      "         3.1736e-01,  8.1688e-01,  2.0190e-01, -1.0405e-01, -9.9222e-02,\n",
      "         5.6683e-01, -2.0308e-02,  4.5538e-01, -1.4956e-02, -6.0586e-01,\n",
      "        -3.8665e-02, -7.4520e-02,  1.4724e-01,  5.6703e-01, -2.7205e-01,\n",
      "        -4.3560e-01, -2.8863e-03,  6.7788e-02,  4.5301e-01,  1.0902e-01,\n",
      "        -4.4867e-01,  2.7589e-01,  3.0186e-01,  4.7090e-02, -1.0993e-01,\n",
      "        -1.4658e-01,  2.4710e-01, -2.8878e-01, -9.4037e-02,  3.5055e-01,\n",
      "        -3.4811e-01, -2.6788e-01,  2.2650e-01,  4.9945e-02, -2.6286e-01,\n",
      "        -2.3586e-01, -7.7989e-02,  4.2218e-01, -3.5390e-01,  2.3076e-01,\n",
      "         2.8271e-01, -7.0534e-02, -3.4162e-01,  7.2080e-02,  2.0632e-02,\n",
      "         1.1385e-01, -4.2719e-02,  5.4818e-01,  1.1765e-01, -2.7393e-01,\n",
      "         1.1538e-01, -2.8214e-01, -1.9054e-03,  4.3093e-01, -3.2114e-01,\n",
      "         6.8785e-01,  1.6235e-01, -5.0868e-01,  1.6766e-01, -3.4874e-01,\n",
      "         2.8013e-01, -1.6147e-01, -2.7218e-01, -1.5325e-01,  2.9044e-01,\n",
      "         1.4594e-01,  1.4565e-01, -3.2290e-01,  6.7880e-01, -1.4721e-02,\n",
      "         4.9958e-01,  1.7358e-01, -5.1538e-01, -3.2771e-01,  2.0940e-01,\n",
      "        -2.8175e-01, -1.0162e-02,  2.9398e-01, -8.1156e-02, -3.1394e-01,\n",
      "        -5.8614e-01, -1.8842e-01,  2.1621e-01,  1.4239e-03, -1.4563e-01,\n",
      "        -1.3347e-01,  5.3086e-01, -1.1574e-01, -6.4709e-02, -4.3243e-01,\n",
      "        -7.4455e-02, -3.6066e-02, -8.2352e-03,  9.1710e-03,  3.8891e-01,\n",
      "        -6.3334e-02, -4.2287e-01, -2.7938e-01,  2.2352e-01,  1.6645e-01,\n",
      "         1.3138e-01, -1.2254e-01, -2.1441e-01, -1.8216e-02,  4.0239e-01,\n",
      "        -2.0185e-01, -5.8421e-01,  1.7020e-01,  2.2233e-01, -1.4033e-01,\n",
      "         2.7621e-01, -3.3181e-01,  4.9414e-01,  3.1515e-01,  7.9983e-02,\n",
      "         7.8912e-01,  1.3889e-01,  3.8035e-02, -2.3504e-02,  1.5316e-01,\n",
      "        -5.6658e-02, -4.5150e-01, -2.4327e-01, -1.0192e-01, -8.6366e-02,\n",
      "         1.7920e-01,  2.9718e-01, -4.3527e-01,  2.5958e-01, -8.4706e-03,\n",
      "        -2.6004e-01, -4.5689e-02,  3.0216e-02, -1.9201e-01, -2.9011e-01,\n",
      "         8.5452e-02, -9.8873e-02, -2.8162e-01,  4.5629e-01, -1.3776e-01,\n",
      "        -4.2887e-01, -6.6115e-02,  1.6097e-01,  4.4617e-01, -7.6557e-02,\n",
      "        -4.6080e-01,  5.3740e-01,  6.3301e-02,  5.1286e-01, -1.0300e-01,\n",
      "        -6.8321e-01,  1.4282e-01, -5.6235e-01, -6.5384e-02,  5.4493e-02,\n",
      "         2.4142e-01, -1.7327e-01,  8.0505e-03,  3.5470e-02, -1.4328e-01,\n",
      "        -3.4647e-02, -2.3546e-01, -2.5224e-01, -1.4897e-02,  6.9762e-02,\n",
      "        -6.1779e-01, -1.3092e-01, -1.6865e-01, -1.6052e-02, -1.8630e-01,\n",
      "         6.1159e-01,  1.8266e-01,  1.5579e-01,  1.0630e-01, -1.5895e-01,\n",
      "        -6.0258e-02, -2.0454e-01,  7.1976e-02, -1.6050e-01,  2.2865e-01,\n",
      "        -1.2599e-01, -2.7775e-01, -1.0097e-01, -1.9611e-01, -1.4076e-01,\n",
      "        -1.7984e-01, -5.6732e-02,  8.4495e-02,  5.5282e-02,  2.9512e-01,\n",
      "         1.0778e-01,  6.1826e-01,  6.9173e-01, -6.4021e-01, -1.5885e-01,\n",
      "         5.3496e-01,  4.6456e-01,  1.9111e-02,  8.1299e-02, -3.7860e-02,\n",
      "         2.5665e-02,  3.0445e-01, -2.6492e-01,  1.6158e-01,  2.3939e-01,\n",
      "        -6.4764e-02,  1.2938e-01,  5.5279e-01,  2.0942e-01, -5.1750e-02,\n",
      "        -3.0090e-01, -3.2009e-01, -1.3630e-01, -3.0306e-01, -4.7012e-02,\n",
      "         1.0056e-02,  3.8192e-01, -3.4935e-02,  5.6230e-02, -1.2433e-01,\n",
      "        -2.0417e-01, -3.3858e-01, -1.4872e-01,  1.6495e-01,  5.0204e-02,\n",
      "         3.9136e-02, -3.0089e-01, -5.5112e-03,  3.5441e-01,  3.8235e-01,\n",
      "         1.1932e-01, -9.8219e-02,  3.8238e-02,  7.2267e-02,  2.7685e-01,\n",
      "         3.2486e-01,  9.4084e-02, -2.2486e-01, -2.9714e-01, -4.9309e-02,\n",
      "        -1.1888e-01, -3.0877e-02, -1.0965e-01, -2.3761e-01,  5.7301e-01,\n",
      "        -1.9199e-01, -1.7937e-02, -3.2661e-01,  1.8808e-01,  3.0915e-02,\n",
      "        -2.2986e-01, -2.8269e-01,  2.5074e-01, -3.9449e-03, -1.8544e-03,\n",
      "         1.5771e-01,  1.9612e-01,  2.7316e-01, -4.7227e-03, -2.5262e-02,\n",
      "        -2.1720e-01, -5.6664e-01, -2.0660e-02, -2.0876e-01, -2.7331e-02,\n",
      "        -2.1514e-01, -5.2017e-01,  2.5170e-01,  7.7567e-02, -4.2659e-01,\n",
      "        -3.5194e-01,  1.8032e-01, -1.3756e-01, -1.0734e-01, -5.3529e-01,\n",
      "        -4.3219e-02,  9.9247e-02, -5.3596e-01, -1.9771e-01,  2.2072e-01,\n",
      "        -6.1727e-02,  4.2881e-01,  1.3085e-01, -9.6305e-02,  1.2594e-02,\n",
      "        -1.0873e-01,  1.6730e-01,  2.5569e-01, -2.2718e-01, -2.9577e-01,\n",
      "         1.4328e-01,  2.6816e-01, -1.5851e-01, -1.9985e-01,  9.7487e-02,\n",
      "         6.7226e-02,  1.9091e-01,  2.3954e-01, -3.1185e-01,  1.5385e-02,\n",
      "        -1.1679e-02, -4.0383e-01, -4.4023e-01,  1.3109e-01,  2.8203e-01,\n",
      "         1.4580e-01, -2.0262e-01,  4.8106e-01,  1.9425e-01, -1.0931e-01,\n",
      "        -4.5713e-02, -5.2729e-02, -2.3770e-01, -5.5024e-02,  5.3300e-02,\n",
      "        -1.5651e-01,  9.3657e-02,  7.7002e-02,  5.1000e-01,  1.7320e-01,\n",
      "         4.0123e-01, -4.6081e-01,  1.5753e-01,  2.6560e-02,  2.5154e-01,\n",
      "         1.1137e-02, -2.1012e-01,  4.3556e-02,  3.8829e-01, -2.5420e-01,\n",
      "        -7.9346e-02, -3.1794e-01,  4.3940e-01,  2.4778e-01, -1.2597e-01,\n",
      "         2.6371e-01,  2.8512e-01,  2.2329e-02, -4.6428e-01,  9.0792e-02,\n",
      "         9.7967e-02,  3.2092e-02,  1.6626e-01,  3.2053e-01, -2.1917e-01,\n",
      "         1.8738e-01, -2.2864e-01,  5.5647e-02, -5.3890e-03, -1.1242e-01,\n",
      "        -1.1245e-01,  5.4015e-03, -3.2697e-01, -2.8410e-01, -7.9070e-02,\n",
      "        -7.3118e-01,  4.4436e-02,  2.7371e-01, -4.8850e-01,  2.9369e-01,\n",
      "         2.0241e-01,  1.6017e-01, -6.4809e-01,  1.5362e-01,  4.1535e-01,\n",
      "        -3.2076e-01,  5.3278e-02,  3.6314e-01,  4.2701e-02,  1.1909e-01,\n",
      "        -6.2210e-02,  6.2437e-01,  1.8156e-01, -2.9111e-01,  6.4050e-02,\n",
      "        -1.0481e-01,  4.1397e-01,  3.0544e-01]) \n",
      "\n"
     ]
    }
   ],
   "source": [
    "print(\"Dimensão dos embeddings: \", len(corpus_embeddings[0]), \"\\n\")\n",
    "print(\"Embedding da primeira sentença: \", corpus_embeddings[0], \"\\n\")"
   ]
  },
  {
   "cell_type": "markdown",
   "metadata": {},
   "source": [
    "### Search Function\n",
    "\n",
    "Given a query, the search function described below queries the corpus and prints a ranked list of the top k results (where k=5 in the example).\n",
    "\n",
    "The `util.semantic_search` function from SBERT implements an optimized search.\n",
    "-   Documentation: [sentence_transformers.util.semantic_search](https://www.sbert.net/docs/package_reference/util.html#sentence_transformers.util.semantic_search)\n",
    "-   This function performs the search by calculating the Cosine Similarity between the embeddings of the input query (or queries) and the embeddings of the documents in the corpus.\n",
    "-   It is suitable for Information Retrieval / Semantic Search tasks on corpora containing up to one million entries.\n",
    "-   For larger corpora (beyond one million entries), an Approximate Nearest Neighbor (ANN) search approach is recommended.\n",
    "-   A popular library for ANN search is FAISS: [FAISS GitHub](https://github.com/facebookresearch/faiss)"
   ]
  },
  {
   "cell_type": "code",
   "execution_count": null,
   "metadata": {},
   "outputs": [],
   "source": [
    "def search(question):\n",
    "    question_embedding = model.encode(question, convert_to_tensor=True)\n",
    "    hits = util.semantic_search(question_embedding, corpus_embeddings)\n",
    "    hits = hits[0]\n",
    "\n",
    "    print(\"Consulta:\", question)\n",
    "    print(\"Resultados:\")\n",
    "    for hit in hits[0:5]:\n",
    "        print(\"\\t{:.3f}\\t{}\".format(hit['score'], corpus_sentences[hit['corpus_id']]))"
   ]
  },
  {
   "cell_type": "markdown",
   "metadata": {},
   "source": [
    "### Testes de Busca"
   ]
  },
  {
   "cell_type": "code",
   "execution_count": 22,
   "metadata": {},
   "outputs": [
    {
     "name": "stdout",
     "output_type": "stream",
     "text": [
      "Consulta: How can I learn Python online?\n",
      "Resultados:\n",
      "\t0.980\tWhat's the best way to learn Python?\n",
      "\t0.980\tHow do I learn Python in easy way?\n",
      "\t0.980\tWhat can I do if I learn Python?\n",
      "\t0.979\tHow do I learn Python systematically?\n",
      "\t0.979\tWhere should I start at to learn about how to do Python?\n"
     ]
    }
   ],
   "source": [
    "search(\"How can I learn Python online?\")"
   ]
  },
  {
   "cell_type": "code",
   "execution_count": 23,
   "metadata": {},
   "outputs": [
    {
     "name": "stdout",
     "output_type": "stream",
     "text": [
      "Consulta: Como eu posso aprender Python online?\n",
      "Resultados:\n",
      "\t0.980\tHow do I learn Python in easy way?\n",
      "\t0.980\tWhat's the best way to learn Python?\n",
      "\t0.980\tWhat can I do if I learn Python?\n",
      "\t0.980\tHow do I learn Python systematically?\n",
      "\t0.979\tHow do I learn Python?\n"
     ]
    }
   ],
   "source": [
    "search(\"Como eu posso aprender Python online?\")"
   ]
  },
  {
   "cell_type": "code",
   "execution_count": null,
   "metadata": {},
   "outputs": [
    {
     "name": "stdout",
     "output_type": "stream",
     "text": [
      "Consulta: How can I live a happier life?\n",
      "Resultados:\n",
      "\t0.972\tHow do we live a happy life?\n",
      "\t0.965\tWhat is the best way to live a happy and successful life?\n",
      "\t0.961\tLife Advice: How can I make my life simpler?\n",
      "\t0.959\tWhat is the best advice for a happy life?\n",
      "\t0.956\tHow can I make my life better?\n",
      "Consulta: Como escolher um bom vinho?\n",
      "Resultados:\n",
      "\t0.946\tWhat is wine made from?\n",
      "\t0.945\tWhat type of grapes are used to make wine?\n",
      "\t0.928\tHow wine is good for health?\n",
      "\t0.927\tDo wine grapes make for good eating?\n",
      "\t0.925\tWhat is a good white wine sweetness scale?\n",
      "Consulta: Best practices for data science\n",
      "Resultados:\n",
      "\t0.951\tWhat is the best way to get started with data science?\n",
      "\t0.939\tHow do I get started in data science?\n",
      "\t0.936\tWhat is data science\n",
      "\t0.933\tHow do I learn Data Science by “doing it”?\n",
      "\t0.928\tWhat is actually a data science?\n"
     ]
    }
   ],
   "source": [
    "search(\"How can I live a happier life?\")\n",
    "search(\"Como escolher um bom vinho?\")\n",
    "search(\"Best practices for data science\")"
   ]
  },
  {
   "cell_type": "markdown",
   "metadata": {},
   "source": [
    "----------------"
   ]
  },
  {
   "cell_type": "markdown",
   "metadata": {},
   "source": [
    "## Text Classification using SentenceBERT Model Embeddings\n",
    "\n",
    "This section covers the implementation of text classification using embeddings generated by the SentenceBERT model as input to a classifier."
   ]
  },
  {
   "cell_type": "markdown",
   "metadata": {},
   "source": [
    "### Pacotes"
   ]
  },
  {
   "cell_type": "code",
   "execution_count": 28,
   "metadata": {},
   "outputs": [],
   "source": [
    "# Processamento de dados\n",
    "import pandas as pd\n",
    "import numpy as np\n",
    "# Machine Learning\n",
    "from sentence_transformers import SentenceTransformer  # SentenceBERT\n",
    "from sklearn.model_selection import train_test_split\n",
    "from sklearn.linear_model import LogisticRegression\n",
    "from sklearn.metrics import accuracy_score\n",
    "# Data e Hora\n",
    "from datetime import datetime"
   ]
  },
  {
   "cell_type": "markdown",
   "metadata": {},
   "source": [
    "### Dataset\n",
    "\n",
    "E-commerce dataset containing the category and description of each product. There are 4 product categories: \"Electronics\", \"Household\", \"Books\" and \"Clothing & Accessories\".<br>\n",
    "The complete dataset is available at:<br>\n",
    "https://www.kaggle.com/datasets/saurabhshahane/ecommerce-text-classification<br>\n",
    "In this application, we use a reduced version of the dataset."
   ]
  },
  {
   "cell_type": "code",
   "execution_count": null,
   "metadata": {},
   "outputs": [
    {
     "data": {
      "text/html": [
       "<div>\n",
       "<style scoped>\n",
       "    .dataframe tbody tr th:only-of-type {\n",
       "        vertical-align: middle;\n",
       "    }\n",
       "\n",
       "    .dataframe tbody tr th {\n",
       "        vertical-align: top;\n",
       "    }\n",
       "\n",
       "    .dataframe thead th {\n",
       "        text-align: right;\n",
       "    }\n",
       "</style>\n",
       "<table border=\"1\" class=\"dataframe\">\n",
       "  <thead>\n",
       "    <tr style=\"text-align: right;\">\n",
       "      <th></th>\n",
       "      <th>category</th>\n",
       "      <th>product</th>\n",
       "    </tr>\n",
       "  </thead>\n",
       "  <tbody>\n",
       "    <tr>\n",
       "      <th>0</th>\n",
       "      <td>Household</td>\n",
       "      <td>K London Multicolor Men's Wallet A Bi-Fold Wal...</td>\n",
       "    </tr>\n",
       "    <tr>\n",
       "      <th>1</th>\n",
       "      <td>Household</td>\n",
       "      <td>VAPOK Neon Plastic and Microfiber Duster(Multi...</td>\n",
       "    </tr>\n",
       "    <tr>\n",
       "      <th>2</th>\n",
       "      <td>Household</td>\n",
       "      <td>Sehaz Artworks Tree Bird Round Wood Wall Clock...</td>\n",
       "    </tr>\n",
       "    <tr>\n",
       "      <th>3</th>\n",
       "      <td>Clothing &amp; Accessories</td>\n",
       "      <td>W for Woman Women's Cape Gilet</td>\n",
       "    </tr>\n",
       "    <tr>\n",
       "      <th>4</th>\n",
       "      <td>Household</td>\n",
       "      <td>Usha 3732 300-Watt Hand Mixer with 2 Hooks (Bl...</td>\n",
       "    </tr>\n",
       "  </tbody>\n",
       "</table>\n",
       "</div>"
      ],
      "text/plain": [
       "                 category                                            product\n",
       "0               Household  K London Multicolor Men's Wallet A Bi-Fold Wal...\n",
       "1               Household  VAPOK Neon Plastic and Microfiber Duster(Multi...\n",
       "2               Household  Sehaz Artworks Tree Bird Round Wood Wall Clock...\n",
       "3  Clothing & Accessories                     W for Woman Women's Cape Gilet\n",
       "4               Household  Usha 3732 300-Watt Hand Mixer with 2 Hooks (Bl..."
      ]
     },
     "execution_count": 29,
     "metadata": {},
     "output_type": "execute_result"
    }
   ],
   "source": [
    "df = pd.read_csv(\"./datasets/ecommerceDatasetReduced.csv\")\n",
    "df = df[[\"category\", \"product\"]]\n",
    "\n",
    "df.head()"
   ]
  },
  {
   "cell_type": "markdown",
   "metadata": {},
   "source": [
    "### EDA"
   ]
  },
  {
   "cell_type": "code",
   "execution_count": 30,
   "metadata": {},
   "outputs": [
    {
     "name": "stdout",
     "output_type": "stream",
     "text": [
      "Número total de produtos: 5000\n",
      "----------------------------------------\n",
      "Partição por categoria:\n",
      "category\n",
      "Household                 1901\n",
      "Books                     1204\n",
      "Electronics               1015\n",
      "Clothing & Accessories     880\n",
      "Name: count, dtype: int64\n",
      "----------------------------------------\n",
      "Número de categorias: 4\n"
     ]
    }
   ],
   "source": [
    "print('Número total de produtos: {}'.format(len(df)))\n",
    "print(40*'-')\n",
    "print('Partição por categoria:')\n",
    "print(df[\"category\"].value_counts())\n",
    "print(40*'-')\n",
    "nr_categories = len(df[\"category\"].unique())\n",
    "print(\"Número de categorias: {n}\".format(n=nr_categories))"
   ]
  },
  {
   "cell_type": "code",
   "execution_count": null,
   "metadata": {},
   "outputs": [
    {
     "name": "stdout",
     "output_type": "stream",
     "text": [
      "Categoria:  Household\n",
      "----------------------------------------------------------------------------------------------------\n",
      "Produto:\n",
      "Forzza Zoey Laptop Table (Walnut with Black Frame) Ergonomically designed foldable laptop table is made with 12mm MDF with melamine. The legs are made in black powder coated metal. This table is easily foldable. It is ideal to place your laptop and work while in bed or on your couch. It could also be used for placing your cup of coffee. It is easily stackable and can be easily wiped with a damp cloth. This well finished product will be a good investment. Available at unbelievable prices.\n"
     ]
    }
   ],
   "source": [
    "n=90\n",
    "print('Categoria: ',df['category'][n])\n",
    "print(100*'-')\n",
    "print('Produto:')\n",
    "print(df['product'][n])"
   ]
  },
  {
   "cell_type": "markdown",
   "metadata": {},
   "source": [
    "### Embeddings"
   ]
  },
  {
   "cell_type": "code",
   "execution_count": null,
   "metadata": {},
   "outputs": [
    {
     "name": "stderr",
     "output_type": "stream",
     "text": [
      "C:\\Users\\sergi\\AppData\\Local\\Packages\\PythonSoftwareFoundation.Python.3.10_qbz5n2kfra8p0\\LocalCache\\local-packages\\Python310\\site-packages\\transformers\\utils\\generic.py:311: FutureWarning: `torch.utils._pytree._register_pytree_node` is deprecated. Please use `torch.utils._pytree.register_pytree_node` instead.\n",
      "  torch.utils._pytree._register_pytree_node(\n"
     ]
    }
   ],
   "source": [
    "model = SentenceTransformer('all-MiniLM-L6-v2')\n",
    "df[\"embedding\"] = df[\"product\"].apply(lambda x: np.array(model.encode([x])[0]))"
   ]
  },
  {
   "cell_type": "markdown",
   "metadata": {},
   "source": [
    "### Train Test partition"
   ]
  },
  {
   "cell_type": "code",
   "execution_count": null,
   "metadata": {},
   "outputs": [],
   "source": [
    "X = df['embedding'].tolist()\n",
    "y = df['category']\n",
    "X_train, X_test, y_train, y_test = train_test_split(X, y, test_size=0.3, random_state=42, stratify=df['category'])"
   ]
  },
  {
   "cell_type": "code",
   "execution_count": null,
   "metadata": {},
   "outputs": [
    {
     "data": {
      "text/plain": [
       "category\n",
       "Household                 0.700158\n",
       "Books                     0.700166\n",
       "Electronics               0.699507\n",
       "Clothing & Accessories    0.700000\n",
       "Name: count, dtype: float64"
      ]
     },
     "execution_count": 36,
     "metadata": {},
     "output_type": "execute_result"
    }
   ],
   "source": [
    "y_train.value_counts()/y.value_counts()"
   ]
  },
  {
   "cell_type": "markdown",
   "metadata": {},
   "source": [
    "### Classifier Training"
   ]
  },
  {
   "cell_type": "code",
   "execution_count": null,
   "metadata": {},
   "outputs": [],
   "source": [
    "model_sbert = LogisticRegression()\n",
    "start_time = datetime.now()\n",
    "model_sbert.fit(X_train, y_train)\n",
    "end_time = datetime.now()\n",
    "training_time_sbert = (end_time - start_time).total_seconds()"
   ]
  },
  {
   "cell_type": "markdown",
   "metadata": {},
   "source": [
    "### Model Evaluation"
   ]
  },
  {
   "cell_type": "code",
   "execution_count": null,
   "metadata": {},
   "outputs": [
    {
     "name": "stdout",
     "output_type": "stream",
     "text": [
      "Acurácia nos dados de treino: 93.9%\n",
      "Acurácia nos dados de teste:  94.1%\n",
      "Tempo de treinamento: 0.1s\n"
     ]
    }
   ],
   "source": [
    "predicted_train_sbert = model_sbert.predict(X_train)\n",
    "accuracy_train_sbert = accuracy_score(y_train, predicted_train_sbert)\n",
    "print('Acurácia nos dados de treino: {:.1%}'.format(accuracy_train_sbert))\n",
    "\n",
    "predicted_test_sbert = model_sbert.predict(X_test)\n",
    "accuracy_test_sbert = accuracy_score(y_test, predicted_test_sbert)\n",
    "print('Acurácia nos dados de teste:  {:.1%}'.format(accuracy_test_sbert))\n",
    "\n",
    "print('Tempo de treinamento: {:.1f}s'.format(training_time_sbert))"
   ]
  },
  {
   "cell_type": "markdown",
   "metadata": {},
   "source": [
    "Test with artificial neural network classifier"
   ]
  },
  {
   "cell_type": "code",
   "execution_count": null,
   "metadata": {},
   "outputs": [],
   "source": [
    "from sklearn.neural_network import MLPClassifier\n",
    "from sklearn.model_selection import GridSearchCV"
   ]
  },
  {
   "cell_type": "code",
   "execution_count": null,
   "metadata": {},
   "outputs": [],
   "source": [
    "model_mlp_sbert = MLPClassifier()\n",
    "start_time = datetime.now()\n",
    "model_mlp_sbert.fit(X_train, y_train)\n",
    "end_time = datetime.now()\n",
    "training_time_sbert = (end_time - start_time).total_seconds()"
   ]
  },
  {
   "cell_type": "code",
   "execution_count": null,
   "metadata": {},
   "outputs": [
    {
     "name": "stdout",
     "output_type": "stream",
     "text": [
      "Acurácia nos dados de treino: 100.0%\n",
      "Acurácia nos dados de teste:  93.3%\n",
      "Tempo de treinamento: 3.6s\n"
     ]
    }
   ],
   "source": [
    "predicted_train_sbert = model_mlp_sbert.predict(X_train)\n",
    "accuracy_train_sbert = accuracy_score(y_train, predicted_train_sbert)\n",
    "print('Acurácia nos dados de treino: {:.1%}'.format(accuracy_train_sbert))\n",
    "\n",
    "predicted_test_sbert = model_mlp_sbert.predict(X_test)\n",
    "accuracy_test_sbert = accuracy_score(y_test, predicted_test_sbert)\n",
    "print('Acurácia nos dados de teste:  {:.1%}'.format(accuracy_test_sbert))\n",
    "\n",
    "print('Tempo de treinamento: {:.1f}s'.format(training_time_sbert))"
   ]
  }
 ],
 "metadata": {
  "kernelspec": {
   "display_name": ".venv",
   "language": "python",
   "name": "python3"
  },
  "language_info": {
   "codemirror_mode": {
    "name": "ipython",
    "version": 3
   },
   "file_extension": ".py",
   "mimetype": "text/x-python",
   "name": "python",
   "nbconvert_exporter": "python",
   "pygments_lexer": "ipython3",
   "version": "3.10.11"
  }
 },
 "nbformat": 4,
 "nbformat_minor": 4
}
